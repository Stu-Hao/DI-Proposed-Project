{
 "cells": [
  {
   "cell_type": "markdown",
   "metadata": {},
   "source": [
    "## Preparation"
   ]
  },
  {
   "cell_type": "code",
   "execution_count": 1,
   "metadata": {},
   "outputs": [],
   "source": [
    "import pandas as pd\n",
    "import numpy as np\n",
    "import matplotlib.pyplot as plt"
   ]
  },
  {
   "cell_type": "code",
   "execution_count": 2,
   "metadata": {},
   "outputs": [],
   "source": [
    "data = pd.read_csv('temp_datalab_records_social_facebook.csv',  low_memory=False)"
   ]
  },
  {
   "cell_type": "code",
   "execution_count": 3,
   "metadata": {},
   "outputs": [
    {
     "data": {
      "text/html": [
       "<div>\n",
       "<style scoped>\n",
       "    .dataframe tbody tr th:only-of-type {\n",
       "        vertical-align: middle;\n",
       "    }\n",
       "\n",
       "    .dataframe tbody tr th {\n",
       "        vertical-align: top;\n",
       "    }\n",
       "\n",
       "    .dataframe thead th {\n",
       "        text-align: right;\n",
       "    }\n",
       "</style>\n",
       "<table border=\"1\" class=\"dataframe\">\n",
       "  <thead>\n",
       "    <tr style=\"text-align: right;\">\n",
       "      <th></th>\n",
       "      <th>dataset_id</th>\n",
       "      <th>time</th>\n",
       "      <th>username</th>\n",
       "      <th>checkins</th>\n",
       "      <th>has_added_app</th>\n",
       "      <th>were_here_count</th>\n",
       "      <th>likes</th>\n",
       "      <th>talking_about_count</th>\n",
       "      <th>facebook_id</th>\n",
       "      <th>date_added</th>\n",
       "      <th>date_updated</th>\n",
       "      <th>entity_id</th>\n",
       "      <th>cusip</th>\n",
       "      <th>isin</th>\n",
       "    </tr>\n",
       "  </thead>\n",
       "  <tbody>\n",
       "    <tr>\n",
       "      <th>0</th>\n",
       "      <td>53088</td>\n",
       "      <td>2015-01-01 05:00:00+00</td>\n",
       "      <td>SodaStream</td>\n",
       "      <td>0</td>\n",
       "      <td>f</td>\n",
       "      <td>0</td>\n",
       "      <td>761533</td>\n",
       "      <td>587</td>\n",
       "      <td>54885616308</td>\n",
       "      <td>NaN</td>\n",
       "      <td>2017-02-14 03:35:13.236826+00</td>\n",
       "      <td>NaN</td>\n",
       "      <td>NaN</td>\n",
       "      <td>NaN</td>\n",
       "    </tr>\n",
       "    <tr>\n",
       "      <th>1</th>\n",
       "      <td>52642</td>\n",
       "      <td>2015-01-01 05:00:00+00</td>\n",
       "      <td>ANSYSInc</td>\n",
       "      <td>148</td>\n",
       "      <td>f</td>\n",
       "      <td>0</td>\n",
       "      <td>43442</td>\n",
       "      <td>1305</td>\n",
       "      <td>160242297413411</td>\n",
       "      <td>NaN</td>\n",
       "      <td>2017-02-14 01:55:52.78506+00</td>\n",
       "      <td>NaN</td>\n",
       "      <td>NaN</td>\n",
       "      <td>NaN</td>\n",
       "    </tr>\n",
       "    <tr>\n",
       "      <th>2</th>\n",
       "      <td>53656</td>\n",
       "      <td>2015-01-01 05:00:00+00</td>\n",
       "      <td>MyAquaAmerica</td>\n",
       "      <td>0</td>\n",
       "      <td>f</td>\n",
       "      <td>0</td>\n",
       "      <td>5591</td>\n",
       "      <td>297</td>\n",
       "      <td>591693544195818</td>\n",
       "      <td>NaN</td>\n",
       "      <td>2017-02-14 08:13:51.267343+00</td>\n",
       "      <td>NaN</td>\n",
       "      <td>NaN</td>\n",
       "      <td>NaN</td>\n",
       "    </tr>\n",
       "    <tr>\n",
       "      <th>3</th>\n",
       "      <td>53033</td>\n",
       "      <td>2015-01-01 05:00:00+00</td>\n",
       "      <td>Qualcomm</td>\n",
       "      <td>173</td>\n",
       "      <td>f</td>\n",
       "      <td>0</td>\n",
       "      <td>1232521</td>\n",
       "      <td>2685</td>\n",
       "      <td>108472637291</td>\n",
       "      <td>NaN</td>\n",
       "      <td>2017-02-14 03:24:04.363035+00</td>\n",
       "      <td>NaN</td>\n",
       "      <td>NaN</td>\n",
       "      <td>NaN</td>\n",
       "    </tr>\n",
       "    <tr>\n",
       "      <th>4</th>\n",
       "      <td>52783</td>\n",
       "      <td>2015-01-01 05:00:00+00</td>\n",
       "      <td>eaglepharmaceuticals</td>\n",
       "      <td>0</td>\n",
       "      <td>f</td>\n",
       "      <td>0</td>\n",
       "      <td>18</td>\n",
       "      <td>0</td>\n",
       "      <td>1428265940729350</td>\n",
       "      <td>NaN</td>\n",
       "      <td>2017-02-14 02:22:10.193588+00</td>\n",
       "      <td>NaN</td>\n",
       "      <td>NaN</td>\n",
       "      <td>NaN</td>\n",
       "    </tr>\n",
       "  </tbody>\n",
       "</table>\n",
       "</div>"
      ],
      "text/plain": [
       "   dataset_id                    time              username  checkins  \\\n",
       "0       53088  2015-01-01 05:00:00+00            SodaStream         0   \n",
       "1       52642  2015-01-01 05:00:00+00              ANSYSInc       148   \n",
       "2       53656  2015-01-01 05:00:00+00         MyAquaAmerica         0   \n",
       "3       53033  2015-01-01 05:00:00+00              Qualcomm       173   \n",
       "4       52783  2015-01-01 05:00:00+00  eaglepharmaceuticals         0   \n",
       "\n",
       "  has_added_app  were_here_count    likes  talking_about_count  \\\n",
       "0             f                0   761533                  587   \n",
       "1             f                0    43442                 1305   \n",
       "2             f                0     5591                  297   \n",
       "3             f                0  1232521                 2685   \n",
       "4             f                0       18                    0   \n",
       "\n",
       "        facebook_id date_added                   date_updated  entity_id  \\\n",
       "0       54885616308        NaN  2017-02-14 03:35:13.236826+00        NaN   \n",
       "1   160242297413411        NaN   2017-02-14 01:55:52.78506+00        NaN   \n",
       "2   591693544195818        NaN  2017-02-14 08:13:51.267343+00        NaN   \n",
       "3      108472637291        NaN  2017-02-14 03:24:04.363035+00        NaN   \n",
       "4  1428265940729350        NaN  2017-02-14 02:22:10.193588+00        NaN   \n",
       "\n",
       "   cusip  isin  \n",
       "0    NaN   NaN  \n",
       "1    NaN   NaN  \n",
       "2    NaN   NaN  \n",
       "3    NaN   NaN  \n",
       "4    NaN   NaN  "
      ]
     },
     "execution_count": 3,
     "metadata": {},
     "output_type": "execute_result"
    }
   ],
   "source": [
    "data.head()"
   ]
  },
  {
   "cell_type": "code",
   "execution_count": 4,
   "metadata": {},
   "outputs": [
    {
     "name": "stdout",
     "output_type": "stream",
     "text": [
      "<class 'pandas.core.frame.DataFrame'>\n",
      "RangeIndex: 3621391 entries, 0 to 3621390\n",
      "Data columns (total 14 columns):\n",
      "dataset_id             3621391 non-null int64\n",
      "time                   3621391 non-null object\n",
      "username               3500462 non-null object\n",
      "checkins               3621391 non-null int64\n",
      "has_added_app          3621391 non-null object\n",
      "were_here_count        3621391 non-null int64\n",
      "likes                  3621391 non-null int64\n",
      "talking_about_count    3621391 non-null int64\n",
      "facebook_id            3621391 non-null int64\n",
      "date_added             2099106 non-null object\n",
      "date_updated           3620027 non-null object\n",
      "entity_id              0 non-null float64\n",
      "cusip                  0 non-null float64\n",
      "isin                   0 non-null float64\n",
      "dtypes: float64(3), int64(6), object(5)\n",
      "memory usage: 386.8+ MB\n"
     ]
    }
   ],
   "source": [
    "data.info(null_counts = True)"
   ]
  },
  {
   "cell_type": "code",
   "execution_count": 5,
   "metadata": {},
   "outputs": [],
   "source": [
    "data['time'] = pd.to_datetime(data['time'])"
   ]
  },
  {
   "cell_type": "code",
   "execution_count": 6,
   "metadata": {},
   "outputs": [
    {
     "name": "stdout",
     "output_type": "stream",
     "text": [
      "<class 'pandas.core.frame.DataFrame'>\n",
      "RangeIndex: 3621391 entries, 0 to 3621390\n",
      "Data columns (total 9 columns):\n",
      "dataset_id             3621391 non-null int64\n",
      "time                   3621391 non-null datetime64[ns]\n",
      "username               3500462 non-null object\n",
      "checkins               3621391 non-null int64\n",
      "has_added_app          3621391 non-null object\n",
      "were_here_count        3621391 non-null int64\n",
      "likes                  3621391 non-null int64\n",
      "talking_about_count    3621391 non-null int64\n",
      "facebook_id            3621391 non-null int64\n",
      "dtypes: datetime64[ns](1), int64(6), object(2)\n",
      "memory usage: 248.7+ MB\n"
     ]
    }
   ],
   "source": [
    "#Drop empty & unused columns\n",
    "\n",
    "data = data.drop(['entity_id','cusip','isin','date_updated','date_added'], axis = 'columns')\n",
    "data.info(null_counts = True)"
   ]
  },
  {
   "cell_type": "code",
   "execution_count": 7,
   "metadata": {},
   "outputs": [
    {
     "name": "stdout",
     "output_type": "stream",
     "text": [
      "4714 unique values in column dataset_id\n",
      "1241 unique values in column time\n",
      "4951 unique values in column username\n",
      "117065 unique values in column checkins\n",
      "1 unique values in column has_added_app\n",
      "244669 unique values in column were_here_count\n",
      "926145 unique values in column likes\n",
      "134589 unique values in column talking_about_count\n",
      "4714 unique values in column facebook_id\n"
     ]
    }
   ],
   "source": [
    "#Check unique values in columns\n",
    "\n",
    "for c in data.columns:\n",
    "    temp = data[c].drop_duplicates()\n",
    "    leng = len(temp)\n",
    "    print(leng,'unique values in column', c)"
   ]
  },
  {
   "cell_type": "code",
   "execution_count": 8,
   "metadata": {},
   "outputs": [
    {
     "name": "stdout",
     "output_type": "stream",
     "text": [
      "2015-01-01 05:00:00 2018-07-17 04:00:00\n"
     ]
    }
   ],
   "source": [
    "lat_date = data['time'].max()\n",
    "ear_date = data['time'].min()\n",
    "\n",
    "print(ear_date,lat_date)"
   ]
  },
  {
   "cell_type": "code",
   "execution_count": 9,
   "metadata": {},
   "outputs": [
    {
     "data": {
      "text/plain": [
       "Timedelta('1292 days 23:00:00')"
      ]
     },
     "execution_count": 9,
     "metadata": {},
     "output_type": "execute_result"
    }
   ],
   "source": [
    "lat_date - ear_date"
   ]
  },
  {
   "cell_type": "code",
   "execution_count": 10,
   "metadata": {},
   "outputs": [
    {
     "name": "stdout",
     "output_type": "stream",
     "text": [
      "<class 'pandas.core.frame.DataFrame'>\n",
      "Int64Index: 5212 entries, 0 to 3616431\n",
      "Data columns (total 2 columns):\n",
      "dataset_id    5212 non-null int64\n",
      "username      4950 non-null object\n",
      "dtypes: int64(1), object(1)\n",
      "memory usage: 122.2+ KB\n"
     ]
    }
   ],
   "source": [
    "id_name_pair = data[['dataset_id','username']].drop_duplicates()\n",
    "id_name_pair.info(null_counts = True)"
   ]
  },
  {
   "cell_type": "markdown",
   "metadata": {},
   "source": [
    "There are 4714 unique facebook accounts in the data, in which records of 1241 dates are stored, through 2015-1-1 to 2018-07-17. Note that the difference between earliest date and latest date is bigger than unique dates count, which means there are some dates missing during this period.\n",
    "\n",
    "We see that number of unique usernames is bigger than ids, the reason could be typos or mistakes in the records, or some accounts had changed their usernames during the period. Besides, according the 'id_name_pair', we see that usernames of some accounts are missing. Hence, 'dataset_id' will be used as id in this project.\n",
    "\n",
    "Besides, all records have the same value in 'has_added_app'. "
   ]
  },
  {
   "cell_type": "markdown",
   "metadata": {},
   "source": [
    "## Explore 'Pooled' Data\n",
    "\n",
    "This is a panel data. It is also not balanced since each id has different days of records. Exploration on the whole pooled data is done first."
   ]
  },
  {
   "cell_type": "code",
   "execution_count": 11,
   "metadata": {},
   "outputs": [
    {
     "data": {
      "text/html": [
       "<div>\n",
       "<style scoped>\n",
       "    .dataframe tbody tr th:only-of-type {\n",
       "        vertical-align: middle;\n",
       "    }\n",
       "\n",
       "    .dataframe tbody tr th {\n",
       "        vertical-align: top;\n",
       "    }\n",
       "\n",
       "    .dataframe thead th {\n",
       "        text-align: right;\n",
       "    }\n",
       "</style>\n",
       "<table border=\"1\" class=\"dataframe\">\n",
       "  <thead>\n",
       "    <tr style=\"text-align: right;\">\n",
       "      <th></th>\n",
       "      <th>checkins</th>\n",
       "      <th>were_here_count</th>\n",
       "      <th>likes</th>\n",
       "      <th>talking_about_count</th>\n",
       "    </tr>\n",
       "  </thead>\n",
       "  <tbody>\n",
       "    <tr>\n",
       "      <th>count</th>\n",
       "      <td>3.621391e+06</td>\n",
       "      <td>3.621391e+06</td>\n",
       "      <td>3.621391e+06</td>\n",
       "      <td>3.621391e+06</td>\n",
       "    </tr>\n",
       "    <tr>\n",
       "      <th>mean</th>\n",
       "      <td>1.417013e+04</td>\n",
       "      <td>1.356737e+05</td>\n",
       "      <td>8.166253e+05</td>\n",
       "      <td>1.004266e+04</td>\n",
       "    </tr>\n",
       "    <tr>\n",
       "      <th>std</th>\n",
       "      <td>2.326502e+05</td>\n",
       "      <td>1.330491e+06</td>\n",
       "      <td>4.937245e+06</td>\n",
       "      <td>7.292689e+04</td>\n",
       "    </tr>\n",
       "    <tr>\n",
       "      <th>min</th>\n",
       "      <td>0.000000e+00</td>\n",
       "      <td>0.000000e+00</td>\n",
       "      <td>1.000000e+00</td>\n",
       "      <td>0.000000e+00</td>\n",
       "    </tr>\n",
       "    <tr>\n",
       "      <th>25%</th>\n",
       "      <td>0.000000e+00</td>\n",
       "      <td>0.000000e+00</td>\n",
       "      <td>2.500000e+03</td>\n",
       "      <td>2.700000e+01</td>\n",
       "    </tr>\n",
       "    <tr>\n",
       "      <th>50%</th>\n",
       "      <td>1.300000e+01</td>\n",
       "      <td>0.000000e+00</td>\n",
       "      <td>2.047700e+04</td>\n",
       "      <td>2.510000e+02</td>\n",
       "    </tr>\n",
       "    <tr>\n",
       "      <th>75%</th>\n",
       "      <td>2.860000e+02</td>\n",
       "      <td>1.140000e+02</td>\n",
       "      <td>2.175790e+05</td>\n",
       "      <td>2.474000e+03</td>\n",
       "    </tr>\n",
       "    <tr>\n",
       "      <th>max</th>\n",
       "      <td>1.729055e+07</td>\n",
       "      <td>3.682637e+07</td>\n",
       "      <td>2.106411e+08</td>\n",
       "      <td>5.747010e+06</td>\n",
       "    </tr>\n",
       "  </tbody>\n",
       "</table>\n",
       "</div>"
      ],
      "text/plain": [
       "           checkins  were_here_count         likes  talking_about_count\n",
       "count  3.621391e+06     3.621391e+06  3.621391e+06         3.621391e+06\n",
       "mean   1.417013e+04     1.356737e+05  8.166253e+05         1.004266e+04\n",
       "std    2.326502e+05     1.330491e+06  4.937245e+06         7.292689e+04\n",
       "min    0.000000e+00     0.000000e+00  1.000000e+00         0.000000e+00\n",
       "25%    0.000000e+00     0.000000e+00  2.500000e+03         2.700000e+01\n",
       "50%    1.300000e+01     0.000000e+00  2.047700e+04         2.510000e+02\n",
       "75%    2.860000e+02     1.140000e+02  2.175790e+05         2.474000e+03\n",
       "max    1.729055e+07     3.682637e+07  2.106411e+08         5.747010e+06"
      ]
     },
     "execution_count": 11,
     "metadata": {},
     "output_type": "execute_result"
    }
   ],
   "source": [
    "#Description statistics for performance metrics\n",
    "\n",
    "data[['checkins','were_here_count','likes','talking_about_count']].describe()"
   ]
  },
  {
   "cell_type": "code",
   "execution_count": 12,
   "metadata": {},
   "outputs": [
    {
     "name": "stdout",
     "output_type": "stream",
     "text": [
      "<class 'pandas.core.frame.DataFrame'>\n",
      "Int64Index: 1241 entries, 0 to 1240\n",
      "Data columns (total 2 columns):\n",
      "time          1241 non-null datetime64[ns]\n",
      "dataset_id    1241 non-null int64\n",
      "dtypes: datetime64[ns](1), int64(1)\n",
      "memory usage: 29.1 KB\n"
     ]
    }
   ],
   "source": [
    "count_time_pair = data[['time','dataset_id']].drop_duplicates()\n",
    "\n",
    "count_by_time = count_time_pair.groupby('time')['dataset_id'].aggregate('count').reset_index().sort_values('time')\n",
    "count_by_time.info(null_counts = True)"
   ]
  },
  {
   "cell_type": "code",
   "execution_count": 15,
   "metadata": {},
   "outputs": [
    {
     "data": {
      "image/png": "[encoded data removed]",
      "text/plain": [
       "<Figure size 432x288 with 1 Axes>"
      ]
     },
     "metadata": {
      "needs_background": "light"
     },
     "output_type": "display_data"
    }
   ],
   "source": [
    "#Look at number of accounts by date\n",
    "\n",
    "Date = count_by_time['time']\n",
    "Count_ID = count_by_time['dataset_id']\n",
    "\n",
    "plt.plot(Date, Count_ID)\n",
    "plt.show()"
   ]
  },
  {
   "cell_type": "markdown",
   "metadata": {},
   "source": [
    "All metrics have big ranges. We see that at least 25% of 'checkins' and 50% of 'were_here_count' are zero, while 'likes' does not have zero values. Besides, there is much more large numbers in 'likes' than other 3 metrics. It is because users do not need to really get engaged with a facebook page to hit the like button. Hence, 'likes' is not a good metric to measure the popularity of a facebook page.\n",
    "\n",
    "It is seen that number of accounts / companies had been increasing since mid 2015. After a platform in 2016, it started rising again until being relatively stable in mid 2017. Note that the numbers in 2018 has very severe fluctuation. The reason could be incomplete records in 2018."
   ]
  },
  {
   "cell_type": "code",
   "execution_count": 16,
   "metadata": {},
   "outputs": [
    {
     "name": "stdout",
     "output_type": "stream",
     "text": [
      "<class 'pandas.core.frame.DataFrame'>\n",
      "Int64Index: 1241 entries, 0 to 1240\n",
      "Data columns (total 5 columns):\n",
      "time                   1241 non-null datetime64[ns]\n",
      "checkins               1241 non-null int64\n",
      "were_here_count        1241 non-null int64\n",
      "likes                  1241 non-null int64\n",
      "talking_about_count    1241 non-null int64\n",
      "dtypes: datetime64[ns](1), int64(4)\n",
      "memory usage: 58.2 KB\n"
     ]
    }
   ],
   "source": [
    "metric_by_time = data.groupby('time')['checkins','were_here_count','likes','talking_about_count'].aggregate('sum').reset_index().sort_values('time')\n",
    "metric_by_time.info(null_counts = True)"
   ]
  },
  {
   "cell_type": "code",
   "execution_count": 17,
   "metadata": {},
   "outputs": [],
   "source": [
    "#Create 2 metrics, engaging ratio and conversion ratio\n",
    "\n",
    "metric_by_time['engaging'] = metric_by_time['talking_about_count'] / metric_by_time['likes']\n",
    "\n",
    "metric_by_time['conversion'] = metric_by_time['checkins'] / metric_by_time['talking_about_count']"
   ]
  },
  {
   "cell_type": "code",
   "execution_count": 18,
   "metadata": {},
   "outputs": [
    {
     "data": {
      "image/png": "[encoded data removed]",
      "text/plain": [
       "<Figure size 432x288 with 3 Axes>"
      ]
     },
     "metadata": {
      "needs_background": "light"
     },
     "output_type": "display_data"
    }
   ],
   "source": [
    "#Look at overall changes of metrics over time\n",
    "\n",
    "x = metric_by_time['time']\n",
    "\n",
    "y1 = metric_by_time['checkins']\n",
    "y2 = metric_by_time['were_here_count']\n",
    "y3 = metric_by_time['likes']\n",
    "y4 = metric_by_time['talking_about_count']\n",
    "y5 = metric_by_time['engaging']\n",
    "y6 = metric_by_time['conversion']\n",
    "\n",
    "fig, axes = plt.subplots(nrows = 3, ncols = 1)\n",
    "fig.tight_layout()\n",
    "\n",
    "plt.subplot(3, 1, 1)\n",
    "plt.plot(x, y1)\n",
    "plt.ylabel('Checkins')\n",
    "\n",
    "plt.subplot(3, 1, 2)\n",
    "plt.plot(x, y2)\n",
    "plt.ylabel('Were Here Count')\n",
    "\n",
    "plt.subplot(3, 1, 3)\n",
    "plt.plot(x, y3)\n",
    "plt.ylabel('Likes')\n",
    "\n",
    "plt.show()"
   ]
  },
  {
   "cell_type": "code",
   "execution_count": 19,
   "metadata": {},
   "outputs": [
    {
     "data": {
      "image/png": "[encoded data removed]",
      "text/plain": [
       "<Figure size 432x288 with 3 Axes>"
      ]
     },
     "metadata": {
      "needs_background": "light"
     },
     "output_type": "display_data"
    }
   ],
   "source": [
    "fig, axes = plt.subplots(nrows = 3, ncols = 1)\n",
    "fig.tight_layout()\n",
    "\n",
    "plt.subplot(3, 1, 1)\n",
    "plt.plot(x, y4)\n",
    "plt.ylabel('Talking About Count')\n",
    "\n",
    "plt.subplot(3, 1, 2)\n",
    "plt.plot(x, y5)\n",
    "plt.ylabel('Engaging Ratio')\n",
    "\n",
    "plt.subplot(3, 1, 3)\n",
    "plt.plot(x, y6)\n",
    "plt.ylabel('Conversion Ratio')\n",
    "\n",
    "plt.show()"
   ]
  },
  {
   "cell_type": "markdown",
   "metadata": {},
   "source": [
    "We see that Checkins, Were Here Count, and Likes almost followed the same trend as number of accounts during the time period, while total Talking About Count has fell a little bit since 2017. Engaging ratio followed the trend of Talking About Count but extent of change is not as obvious as Talking About Count, except for early 2015.\n",
    "\n",
    "Conversion Ratio kept stationary in most of the time, except for a extremely high value in 2016.The overall conversion level after 2017 was higher than before 2017. Note that conversion ratio was also above 1 at most time."
   ]
  },
  {
   "cell_type": "code",
   "execution_count": 20,
   "metadata": {},
   "outputs": [
    {
     "data": {
      "text/html": [
       "<div>\n",
       "<style scoped>\n",
       "    .dataframe tbody tr th:only-of-type {\n",
       "        vertical-align: middle;\n",
       "    }\n",
       "\n",
       "    .dataframe tbody tr th {\n",
       "        vertical-align: top;\n",
       "    }\n",
       "\n",
       "    .dataframe thead th {\n",
       "        text-align: right;\n",
       "    }\n",
       "</style>\n",
       "<table border=\"1\" class=\"dataframe\">\n",
       "  <thead>\n",
       "    <tr style=\"text-align: right;\">\n",
       "      <th></th>\n",
       "      <th>checkins</th>\n",
       "      <th>were_here_count</th>\n",
       "      <th>likes</th>\n",
       "      <th>talking_about_count</th>\n",
       "    </tr>\n",
       "  </thead>\n",
       "  <tbody>\n",
       "    <tr>\n",
       "      <th>checkins</th>\n",
       "      <td>1.000000</td>\n",
       "      <td>0.166944</td>\n",
       "      <td>0.052411</td>\n",
       "      <td>0.038259</td>\n",
       "    </tr>\n",
       "    <tr>\n",
       "      <th>were_here_count</th>\n",
       "      <td>0.166944</td>\n",
       "      <td>1.000000</td>\n",
       "      <td>0.256956</td>\n",
       "      <td>0.065495</td>\n",
       "    </tr>\n",
       "    <tr>\n",
       "      <th>likes</th>\n",
       "      <td>0.052411</td>\n",
       "      <td>0.256956</td>\n",
       "      <td>1.000000</td>\n",
       "      <td>0.358866</td>\n",
       "    </tr>\n",
       "    <tr>\n",
       "      <th>talking_about_count</th>\n",
       "      <td>0.038259</td>\n",
       "      <td>0.065495</td>\n",
       "      <td>0.358866</td>\n",
       "      <td>1.000000</td>\n",
       "    </tr>\n",
       "  </tbody>\n",
       "</table>\n",
       "</div>"
      ],
      "text/plain": [
       "                     checkins  were_here_count     likes  talking_about_count\n",
       "checkins             1.000000         0.166944  0.052411             0.038259\n",
       "were_here_count      0.166944         1.000000  0.256956             0.065495\n",
       "likes                0.052411         0.256956  1.000000             0.358866\n",
       "talking_about_count  0.038259         0.065495  0.358866             1.000000"
      ]
     },
     "execution_count": 20,
     "metadata": {},
     "output_type": "execute_result"
    }
   ],
   "source": [
    "#Correlation between metrics\n",
    "\n",
    "data[['checkins','were_here_count','likes','talking_about_count']].corr()"
   ]
  },
  {
   "cell_type": "markdown",
   "metadata": {},
   "source": [
    "No metrics are highly correlated. Likes is moderately correlated with Were Here Count and Talking About Count."
   ]
  },
  {
   "cell_type": "markdown",
   "metadata": {},
   "source": [
    "## Explore Data Grouped by ID"
   ]
  },
  {
   "cell_type": "code",
   "execution_count": 21,
   "metadata": {},
   "outputs": [
    {
     "name": "stdout",
     "output_type": "stream",
     "text": [
      "<class 'pandas.core.frame.DataFrame'>\n",
      "Int64Index: 3621391 entries, 0 to 3621390\n",
      "Data columns (total 21 columns):\n",
      "dataset_id             3621391 non-null int64\n",
      "time                   3621391 non-null datetime64[ns]\n",
      "checkins               3621391 non-null int64\n",
      "were_here_count        3621391 non-null int64\n",
      "likes                  3621391 non-null int64\n",
      "talking_about_count    3621391 non-null int64\n",
      "date_count             3621391 non-null datetime64[ns]\n",
      "date_earl              3621391 non-null datetime64[ns]\n",
      "date_late              3621391 non-null datetime64[ns]\n",
      "chechin_mean           3621391 non-null int64\n",
      "chechin_sum            3621391 non-null int64\n",
      "werehere_mean          3621391 non-null int64\n",
      "werehere_sum           3621391 non-null int64\n",
      "likes_mean             3621391 non-null int64\n",
      "likes_sum              3621391 non-null int64\n",
      "talking_mean           3621391 non-null int64\n",
      "talking_sum            3621391 non-null int64\n",
      "engaging_min           3621391 non-null float64\n",
      "engaging_max           3621391 non-null float64\n",
      "conversion_min         3570028 non-null float64\n",
      "conversion_max         3570028 non-null float64\n",
      "dtypes: datetime64[ns](4), float64(4), int64(13)\n",
      "memory usage: 607.8 MB\n"
     ]
    }
   ],
   "source": [
    "#Preparation before grouping\n",
    "\n",
    "data_temp = data[['dataset_id','time','checkins','were_here_count','likes','talking_about_count']].drop_duplicates()\n",
    "\n",
    "data_temp['date_count'] = data_temp['time']\n",
    "data_temp['date_earl']  = data_temp['time']\n",
    "data_temp['date_late']  = data_temp['time']\n",
    "\n",
    "data_temp['chechin_mean'] = data_temp['checkins']\n",
    "data_temp['chechin_sum']  = data_temp['checkins']\n",
    "\n",
    "data_temp['werehere_mean'] = data_temp['were_here_count']\n",
    "data_temp['werehere_sum']  = data_temp['were_here_count']\n",
    "\n",
    "data_temp['likes_mean'] = data_temp['likes']\n",
    "data_temp['likes_sum']  = data_temp['likes']\n",
    "\n",
    "data_temp['talking_mean'] = data_temp['talking_about_count']\n",
    "data_temp['talking_sum']  = data_temp['talking_about_count']\n",
    "\n",
    "data_temp['engaging_min']  = data_temp['talking_about_count'] / data_temp['likes']\n",
    "data_temp['engaging_max']  = data_temp['talking_about_count'] / data_temp['likes']\n",
    "\n",
    "data_temp['conversion_min']  = data_temp['checkins'] / data_temp['talking_about_count']\n",
    "data_temp['conversion_max']  = data_temp['checkins'] / data_temp['talking_about_count']\n",
    "\n",
    "data_temp.info(null_counts = True)"
   ]
  },
  {
   "cell_type": "code",
   "execution_count": 22,
   "metadata": {},
   "outputs": [
    {
     "name": "stdout",
     "output_type": "stream",
     "text": [
      "<class 'pandas.core.frame.DataFrame'>\n",
      "Int64Index: 3621391 entries, 0 to 3621390\n",
      "Data columns (total 21 columns):\n",
      "dataset_id             3621391 non-null int64\n",
      "time                   3621391 non-null datetime64[ns]\n",
      "checkins               3621391 non-null int64\n",
      "were_here_count        3621391 non-null int64\n",
      "likes                  3621391 non-null int64\n",
      "talking_about_count    3621391 non-null int64\n",
      "date_count             3621391 non-null datetime64[ns]\n",
      "date_earl              3621391 non-null datetime64[ns]\n",
      "date_late              3621391 non-null datetime64[ns]\n",
      "chechin_mean           3621391 non-null int64\n",
      "chechin_sum            3621391 non-null int64\n",
      "werehere_mean          3621391 non-null int64\n",
      "werehere_sum           3621391 non-null int64\n",
      "likes_mean             3621391 non-null int64\n",
      "likes_sum              3621391 non-null int64\n",
      "talking_mean           3621391 non-null int64\n",
      "talking_sum            3621391 non-null int64\n",
      "engaging_min           3621391 non-null float64\n",
      "engaging_max           3621391 non-null float64\n",
      "conversion_min         3621391 non-null float64\n",
      "conversion_max         3621391 non-null float64\n",
      "dtypes: datetime64[ns](4), float64(4), int64(13)\n",
      "memory usage: 607.8 MB\n"
     ]
    }
   ],
   "source": [
    "#Replace infinity & null values with 0\n",
    "\n",
    "data_temp = data_temp.replace([np.inf, -np.inf], np.nan)\n",
    "data_temp = data_temp.fillna(0)\n",
    "data_temp.info(null_counts = True)"
   ]
  },
  {
   "cell_type": "code",
   "execution_count": 23,
   "metadata": {},
   "outputs": [
    {
     "name": "stdout",
     "output_type": "stream",
     "text": [
      "<class 'pandas.core.frame.DataFrame'>\n",
      "Int64Index: 4714 entries, 52612 to 2340089\n",
      "Data columns (total 15 columns):\n",
      "date_count        4714 non-null int64\n",
      "date_earl         4714 non-null datetime64[ns]\n",
      "date_late         4714 non-null datetime64[ns]\n",
      "chechin_mean      4714 non-null float64\n",
      "chechin_sum       4714 non-null int64\n",
      "werehere_mean     4714 non-null float64\n",
      "werehere_sum      4714 non-null int64\n",
      "likes_mean        4714 non-null float64\n",
      "likes_sum         4714 non-null int64\n",
      "talking_mean      4714 non-null float64\n",
      "talking_sum       4714 non-null int64\n",
      "engaging_min      4714 non-null float64\n",
      "engaging_max      4714 non-null float64\n",
      "conversion_min    4714 non-null float64\n",
      "conversion_max    4714 non-null float64\n",
      "dtypes: datetime64[ns](2), float64(8), int64(5)\n",
      "memory usage: 589.2 KB\n"
     ]
    }
   ],
   "source": [
    "#Group data\n",
    "\n",
    "data_group = data_temp.groupby('dataset_id').agg({'date_count': lambda x: len(x), 'date_earl':lambda x: x.min(), \n",
    "                                    'date_late':lambda x: x.max(), \n",
    "                                    'chechin_mean': lambda x: x.mean(), 'chechin_sum': lambda x: x.sum(), \n",
    "                                    'werehere_mean': lambda x: x.mean(), 'werehere_sum': lambda x: x.sum(),\n",
    "                                    'likes_mean': lambda x: x.mean(), 'likes_sum': lambda x: x.sum(),\n",
    "                                    'talking_mean': lambda x: x.mean(), 'talking_sum': lambda x: x.sum(),\n",
    "                                    'engaging_min':lambda x: x.min(), 'engaging_max':lambda x: x.max(), \n",
    "                                    'conversion_min':lambda x: x.min(), 'conversion_max':lambda x: x.max()})\n",
    "\n",
    "data_group.info(null_counts = True)"
   ]
  },
  {
   "cell_type": "code",
   "execution_count": 24,
   "metadata": {},
   "outputs": [
    {
     "data": {
      "text/html": [
       "<div>\n",
       "<style scoped>\n",
       "    .dataframe tbody tr th:only-of-type {\n",
       "        vertical-align: middle;\n",
       "    }\n",
       "\n",
       "    .dataframe tbody tr th {\n",
       "        vertical-align: top;\n",
       "    }\n",
       "\n",
       "    .dataframe thead th {\n",
       "        text-align: right;\n",
       "    }\n",
       "</style>\n",
       "<table border=\"1\" class=\"dataframe\">\n",
       "  <thead>\n",
       "    <tr style=\"text-align: right;\">\n",
       "      <th></th>\n",
       "      <th>date_count</th>\n",
       "      <th>date_earl</th>\n",
       "      <th>date_late</th>\n",
       "      <th>chechin_mean</th>\n",
       "      <th>chechin_sum</th>\n",
       "      <th>werehere_mean</th>\n",
       "      <th>werehere_sum</th>\n",
       "      <th>likes_mean</th>\n",
       "      <th>likes_sum</th>\n",
       "      <th>talking_mean</th>\n",
       "      <th>talking_sum</th>\n",
       "      <th>engaging_min</th>\n",
       "      <th>engaging_max</th>\n",
       "      <th>conversion_min</th>\n",
       "      <th>conversion_max</th>\n",
       "    </tr>\n",
       "    <tr>\n",
       "      <th>dataset_id</th>\n",
       "      <th></th>\n",
       "      <th></th>\n",
       "      <th></th>\n",
       "      <th></th>\n",
       "      <th></th>\n",
       "      <th></th>\n",
       "      <th></th>\n",
       "      <th></th>\n",
       "      <th></th>\n",
       "      <th></th>\n",
       "      <th></th>\n",
       "      <th></th>\n",
       "      <th></th>\n",
       "      <th></th>\n",
       "      <th></th>\n",
       "    </tr>\n",
       "  </thead>\n",
       "  <tbody>\n",
       "    <tr>\n",
       "      <th>52612</th>\n",
       "      <td>1220</td>\n",
       "      <td>2015-01-01 05:00:00</td>\n",
       "      <td>2018-07-16 04:00:00</td>\n",
       "      <td>13843.294262</td>\n",
       "      <td>16888819</td>\n",
       "      <td>1.492335e+07</td>\n",
       "      <td>18206487941</td>\n",
       "      <td>3.322463e+07</td>\n",
       "      <td>40534054108</td>\n",
       "      <td>125494.788525</td>\n",
       "      <td>153103642</td>\n",
       "      <td>0.000181</td>\n",
       "      <td>0.023209</td>\n",
       "      <td>0.01754</td>\n",
       "      <td>2.338195</td>\n",
       "    </tr>\n",
       "    <tr>\n",
       "      <th>52615</th>\n",
       "      <td>1064</td>\n",
       "      <td>2015-03-23 04:00:00</td>\n",
       "      <td>2018-07-17 04:00:00</td>\n",
       "      <td>82.455827</td>\n",
       "      <td>87733</td>\n",
       "      <td>8.245583e+01</td>\n",
       "      <td>87733</td>\n",
       "      <td>1.743741e+02</td>\n",
       "      <td>185534</td>\n",
       "      <td>5.400376</td>\n",
       "      <td>5746</td>\n",
       "      <td>0.000000</td>\n",
       "      <td>0.829897</td>\n",
       "      <td>0.00000</td>\n",
       "      <td>143.000000</td>\n",
       "    </tr>\n",
       "    <tr>\n",
       "      <th>52619</th>\n",
       "      <td>1198</td>\n",
       "      <td>2015-01-01 05:00:00</td>\n",
       "      <td>2018-07-17 04:00:00</td>\n",
       "      <td>0.000000</td>\n",
       "      <td>0</td>\n",
       "      <td>0.000000e+00</td>\n",
       "      <td>0</td>\n",
       "      <td>2.020841e+03</td>\n",
       "      <td>2420967</td>\n",
       "      <td>54.393155</td>\n",
       "      <td>65163</td>\n",
       "      <td>0.001425</td>\n",
       "      <td>0.161290</td>\n",
       "      <td>0.00000</td>\n",
       "      <td>0.000000</td>\n",
       "    </tr>\n",
       "    <tr>\n",
       "      <th>52620</th>\n",
       "      <td>1066</td>\n",
       "      <td>2015-03-23 04:00:00</td>\n",
       "      <td>2018-07-16 04:00:00</td>\n",
       "      <td>8.254221</td>\n",
       "      <td>8799</td>\n",
       "      <td>8.254221e+00</td>\n",
       "      <td>8799</td>\n",
       "      <td>6.973009e+03</td>\n",
       "      <td>7433228</td>\n",
       "      <td>89.424953</td>\n",
       "      <td>95327</td>\n",
       "      <td>0.000459</td>\n",
       "      <td>0.260901</td>\n",
       "      <td>0.00000</td>\n",
       "      <td>1.727273</td>\n",
       "    </tr>\n",
       "    <tr>\n",
       "      <th>52621</th>\n",
       "      <td>1094</td>\n",
       "      <td>2015-01-01 05:00:00</td>\n",
       "      <td>2018-07-17 04:00:00</td>\n",
       "      <td>487.231261</td>\n",
       "      <td>533031</td>\n",
       "      <td>0.000000e+00</td>\n",
       "      <td>0</td>\n",
       "      <td>5.495279e+04</td>\n",
       "      <td>60118353</td>\n",
       "      <td>3250.062157</td>\n",
       "      <td>3555568</td>\n",
       "      <td>0.000000</td>\n",
       "      <td>0.653359</td>\n",
       "      <td>0.00000</td>\n",
       "      <td>8.628571</td>\n",
       "    </tr>\n",
       "  </tbody>\n",
       "</table>\n",
       "</div>"
      ],
      "text/plain": [
       "            date_count           date_earl           date_late  chechin_mean  \\\n",
       "dataset_id                                                                     \n",
       "52612             1220 2015-01-01 05:00:00 2018-07-16 04:00:00  13843.294262   \n",
       "52615             1064 2015-03-23 04:00:00 2018-07-17 04:00:00     82.455827   \n",
       "52619             1198 2015-01-01 05:00:00 2018-07-17 04:00:00      0.000000   \n",
       "52620             1066 2015-03-23 04:00:00 2018-07-16 04:00:00      8.254221   \n",
       "52621             1094 2015-01-01 05:00:00 2018-07-17 04:00:00    487.231261   \n",
       "\n",
       "            chechin_sum  werehere_mean  werehere_sum    likes_mean  \\\n",
       "dataset_id                                                           \n",
       "52612          16888819   1.492335e+07   18206487941  3.322463e+07   \n",
       "52615             87733   8.245583e+01         87733  1.743741e+02   \n",
       "52619                 0   0.000000e+00             0  2.020841e+03   \n",
       "52620              8799   8.254221e+00          8799  6.973009e+03   \n",
       "52621            533031   0.000000e+00             0  5.495279e+04   \n",
       "\n",
       "              likes_sum   talking_mean  talking_sum  engaging_min  \\\n",
       "dataset_id                                                          \n",
       "52612       40534054108  125494.788525    153103642      0.000181   \n",
       "52615            185534       5.400376         5746      0.000000   \n",
       "52619           2420967      54.393155        65163      0.001425   \n",
       "52620           7433228      89.424953        95327      0.000459   \n",
       "52621          60118353    3250.062157      3555568      0.000000   \n",
       "\n",
       "            engaging_max  conversion_min  conversion_max  \n",
       "dataset_id                                                \n",
       "52612           0.023209         0.01754        2.338195  \n",
       "52615           0.829897         0.00000      143.000000  \n",
       "52619           0.161290         0.00000        0.000000  \n",
       "52620           0.260901         0.00000        1.727273  \n",
       "52621           0.653359         0.00000        8.628571  "
      ]
     },
     "execution_count": 24,
     "metadata": {},
     "output_type": "execute_result"
    }
   ],
   "source": [
    "data_group.head()"
   ]
  },
  {
   "cell_type": "code",
   "execution_count": 25,
   "metadata": {},
   "outputs": [
    {
     "name": "stdout",
     "output_type": "stream",
     "text": [
      "<class 'pandas.core.frame.DataFrame'>\n",
      "Int64Index: 4714 entries, 52612 to 2340089\n",
      "Data columns (total 2 columns):\n",
      "engaging_overall      4714 non-null float64\n",
      "conversion_overall    4711 non-null float64\n",
      "dtypes: float64(2)\n",
      "memory usage: 110.5 KB\n"
     ]
    }
   ],
   "source": [
    "data_group['engaging_overall']   = data_group['talking_sum'] / data_group['likes_sum']\n",
    "data_group['conversion_overall'] = data_group['chechin_sum'] / data_group['talking_sum']\n",
    "\n",
    "data_group[['engaging_overall','conversion_overall']].info(null_counts = True)"
   ]
  },
  {
   "cell_type": "code",
   "execution_count": 26,
   "metadata": {},
   "outputs": [
    {
     "name": "stdout",
     "output_type": "stream",
     "text": [
      "<class 'pandas.core.frame.DataFrame'>\n",
      "Int64Index: 4714 entries, 52612 to 2340089\n",
      "Data columns (total 17 columns):\n",
      "date_count            4714 non-null int64\n",
      "date_earl             4714 non-null datetime64[ns]\n",
      "date_late             4714 non-null datetime64[ns]\n",
      "chechin_mean          4714 non-null float64\n",
      "chechin_sum           4714 non-null int64\n",
      "werehere_mean         4714 non-null float64\n",
      "werehere_sum          4714 non-null int64\n",
      "likes_mean            4714 non-null float64\n",
      "likes_sum             4714 non-null int64\n",
      "talking_mean          4714 non-null float64\n",
      "talking_sum           4714 non-null int64\n",
      "engaging_min          4714 non-null float64\n",
      "engaging_max          4714 non-null float64\n",
      "conversion_min        4714 non-null float64\n",
      "conversion_max        4714 non-null float64\n",
      "engaging_overall      4714 non-null float64\n",
      "conversion_overall    4714 non-null float64\n",
      "dtypes: datetime64[ns](2), float64(10), int64(5)\n",
      "memory usage: 662.9 KB\n"
     ]
    }
   ],
   "source": [
    "data_group = data_group.replace([np.inf, -np.inf], np.nan)\n",
    "data_group = data_group.fillna(0)\n",
    "data_group.info(null_counts = True)"
   ]
  },
  {
   "cell_type": "code",
   "execution_count": 27,
   "metadata": {},
   "outputs": [
    {
     "data": {
      "text/html": [
       "<div>\n",
       "<style scoped>\n",
       "    .dataframe tbody tr th:only-of-type {\n",
       "        vertical-align: middle;\n",
       "    }\n",
       "\n",
       "    .dataframe tbody tr th {\n",
       "        vertical-align: top;\n",
       "    }\n",
       "\n",
       "    .dataframe thead th {\n",
       "        text-align: right;\n",
       "    }\n",
       "</style>\n",
       "<table border=\"1\" class=\"dataframe\">\n",
       "  <thead>\n",
       "    <tr style=\"text-align: right;\">\n",
       "      <th></th>\n",
       "      <th>chechin_mean</th>\n",
       "      <th>werehere_mean</th>\n",
       "      <th>likes_mean</th>\n",
       "      <th>talking_mean</th>\n",
       "      <th>engaging_overall</th>\n",
       "      <th>conversion_overall</th>\n",
       "    </tr>\n",
       "  </thead>\n",
       "  <tbody>\n",
       "    <tr>\n",
       "      <th>chechin_mean</th>\n",
       "      <td>1.000000</td>\n",
       "      <td>0.217130</td>\n",
       "      <td>0.072933</td>\n",
       "      <td>0.059246</td>\n",
       "      <td>-0.014176</td>\n",
       "      <td>0.153257</td>\n",
       "    </tr>\n",
       "    <tr>\n",
       "      <th>werehere_mean</th>\n",
       "      <td>0.217130</td>\n",
       "      <td>1.000000</td>\n",
       "      <td>0.277616</td>\n",
       "      <td>0.089774</td>\n",
       "      <td>-0.041497</td>\n",
       "      <td>0.013598</td>\n",
       "    </tr>\n",
       "    <tr>\n",
       "      <th>likes_mean</th>\n",
       "      <td>0.072933</td>\n",
       "      <td>0.277616</td>\n",
       "      <td>1.000000</td>\n",
       "      <td>0.409120</td>\n",
       "      <td>-0.067046</td>\n",
       "      <td>-0.029492</td>\n",
       "    </tr>\n",
       "    <tr>\n",
       "      <th>talking_mean</th>\n",
       "      <td>0.059246</td>\n",
       "      <td>0.089774</td>\n",
       "      <td>0.409120</td>\n",
       "      <td>1.000000</td>\n",
       "      <td>0.146013</td>\n",
       "      <td>-0.028931</td>\n",
       "    </tr>\n",
       "    <tr>\n",
       "      <th>engaging_overall</th>\n",
       "      <td>-0.014176</td>\n",
       "      <td>-0.041497</td>\n",
       "      <td>-0.067046</td>\n",
       "      <td>0.146013</td>\n",
       "      <td>1.000000</td>\n",
       "      <td>-0.064352</td>\n",
       "    </tr>\n",
       "    <tr>\n",
       "      <th>conversion_overall</th>\n",
       "      <td>0.153257</td>\n",
       "      <td>0.013598</td>\n",
       "      <td>-0.029492</td>\n",
       "      <td>-0.028931</td>\n",
       "      <td>-0.064352</td>\n",
       "      <td>1.000000</td>\n",
       "    </tr>\n",
       "  </tbody>\n",
       "</table>\n",
       "</div>"
      ],
      "text/plain": [
       "                    chechin_mean  werehere_mean  likes_mean  talking_mean  \\\n",
       "chechin_mean            1.000000       0.217130    0.072933      0.059246   \n",
       "werehere_mean           0.217130       1.000000    0.277616      0.089774   \n",
       "likes_mean              0.072933       0.277616    1.000000      0.409120   \n",
       "talking_mean            0.059246       0.089774    0.409120      1.000000   \n",
       "engaging_overall       -0.014176      -0.041497   -0.067046      0.146013   \n",
       "conversion_overall      0.153257       0.013598   -0.029492     -0.028931   \n",
       "\n",
       "                    engaging_overall  conversion_overall  \n",
       "chechin_mean               -0.014176            0.153257  \n",
       "werehere_mean              -0.041497            0.013598  \n",
       "likes_mean                 -0.067046           -0.029492  \n",
       "talking_mean                0.146013           -0.028931  \n",
       "engaging_overall            1.000000           -0.064352  \n",
       "conversion_overall         -0.064352            1.000000  "
      ]
     },
     "execution_count": 27,
     "metadata": {},
     "output_type": "execute_result"
    }
   ],
   "source": [
    "#Correlation in grouped data\n",
    "\n",
    "data_group[['chechin_mean','werehere_mean','likes_mean','talking_mean','engaging_overall','conversion_overall']].corr()"
   ]
  },
  {
   "cell_type": "markdown",
   "metadata": {},
   "source": [
    "Similar to the case in pooled data, no metrics are highly correlated. Note that Engaging is negativley related to Checkin, Werehere, and Likes, Conversion is negatively correlated to Likes and Talking, and the 2 ratioes are negatively correlated to each other. However, other pairs of metrics are all positively related.\n",
    "\n",
    "This may implies increasing Likes, which indicates exposure, and Talking, which indicates popularity, has effects on improving page popularity and foot traffic, which is indicated by Chechin, respectively. However, due to diminishing marginal effects, the 2 ratioes are negatively related to their denominators.\n",
    "\n",
    "Note that correlation between Likes and Talking is about 0.4, while that between Checkin and Talking is only 0.06, which might imply it much harder to convert populartiy to foot traffic than exposure to popularity."
   ]
  },
  {
   "cell_type": "code",
   "execution_count": 28,
   "metadata": {},
   "outputs": [
    {
     "data": {
      "text/html": [
       "<div>\n",
       "<style scoped>\n",
       "    .dataframe tbody tr th:only-of-type {\n",
       "        vertical-align: middle;\n",
       "    }\n",
       "\n",
       "    .dataframe tbody tr th {\n",
       "        vertical-align: top;\n",
       "    }\n",
       "\n",
       "    .dataframe thead th {\n",
       "        text-align: right;\n",
       "    }\n",
       "</style>\n",
       "<table border=\"1\" class=\"dataframe\">\n",
       "  <thead>\n",
       "    <tr style=\"text-align: right;\">\n",
       "      <th></th>\n",
       "      <th>date_count</th>\n",
       "      <th>chechin_mean</th>\n",
       "      <th>chechin_sum</th>\n",
       "      <th>werehere_mean</th>\n",
       "      <th>werehere_sum</th>\n",
       "      <th>likes_mean</th>\n",
       "      <th>likes_sum</th>\n",
       "      <th>talking_mean</th>\n",
       "      <th>talking_sum</th>\n",
       "      <th>engaging_min</th>\n",
       "      <th>engaging_max</th>\n",
       "      <th>conversion_min</th>\n",
       "      <th>conversion_max</th>\n",
       "      <th>engaging_overall</th>\n",
       "      <th>conversion_overall</th>\n",
       "    </tr>\n",
       "  </thead>\n",
       "  <tbody>\n",
       "    <tr>\n",
       "      <th>count</th>\n",
       "      <td>4714.000000</td>\n",
       "      <td>4.714000e+03</td>\n",
       "      <td>4.714000e+03</td>\n",
       "      <td>4.714000e+03</td>\n",
       "      <td>4.714000e+03</td>\n",
       "      <td>4.714000e+03</td>\n",
       "      <td>4.714000e+03</td>\n",
       "      <td>4.714000e+03</td>\n",
       "      <td>4.714000e+03</td>\n",
       "      <td>4714.000000</td>\n",
       "      <td>4714.000000</td>\n",
       "      <td>4714.000000</td>\n",
       "      <td>4714.000000</td>\n",
       "      <td>4714.000000</td>\n",
       "      <td>4714.000000</td>\n",
       "    </tr>\n",
       "    <tr>\n",
       "      <th>mean</th>\n",
       "      <td>768.220407</td>\n",
       "      <td>1.481257e+04</td>\n",
       "      <td>1.088578e+07</td>\n",
       "      <td>1.133437e+05</td>\n",
       "      <td>1.042273e+08</td>\n",
       "      <td>7.122836e+05</td>\n",
       "      <td>6.273482e+08</td>\n",
       "      <td>8.823142e+03</td>\n",
       "      <td>7.714977e+06</td>\n",
       "      <td>0.001969</td>\n",
       "      <td>0.424417</td>\n",
       "      <td>0.912913</td>\n",
       "      <td>124.621257</td>\n",
       "      <td>0.035883</td>\n",
       "      <td>6.754659</td>\n",
       "    </tr>\n",
       "    <tr>\n",
       "      <th>std</th>\n",
       "      <td>286.361000</td>\n",
       "      <td>2.737647e+05</td>\n",
       "      <td>1.560556e+08</td>\n",
       "      <td>1.212108e+06</td>\n",
       "      <td>1.112789e+09</td>\n",
       "      <td>4.392324e+06</td>\n",
       "      <td>4.318134e+09</td>\n",
       "      <td>5.439167e+04</td>\n",
       "      <td>5.328930e+07</td>\n",
       "      <td>0.006090</td>\n",
       "      <td>1.552297</td>\n",
       "      <td>8.204496</td>\n",
       "      <td>1343.760700</td>\n",
       "      <td>0.056843</td>\n",
       "      <td>28.466268</td>\n",
       "    </tr>\n",
       "    <tr>\n",
       "      <th>min</th>\n",
       "      <td>2.000000</td>\n",
       "      <td>0.000000e+00</td>\n",
       "      <td>0.000000e+00</td>\n",
       "      <td>0.000000e+00</td>\n",
       "      <td>0.000000e+00</td>\n",
       "      <td>3.772370e+00</td>\n",
       "      <td>3.520000e+02</td>\n",
       "      <td>0.000000e+00</td>\n",
       "      <td>0.000000e+00</td>\n",
       "      <td>0.000000</td>\n",
       "      <td>0.000000</td>\n",
       "      <td>0.000000</td>\n",
       "      <td>0.000000</td>\n",
       "      <td>0.000000</td>\n",
       "      <td>0.000000</td>\n",
       "    </tr>\n",
       "    <tr>\n",
       "      <th>25%</th>\n",
       "      <td>533.000000</td>\n",
       "      <td>0.000000e+00</td>\n",
       "      <td>0.000000e+00</td>\n",
       "      <td>0.000000e+00</td>\n",
       "      <td>0.000000e+00</td>\n",
       "      <td>2.022574e+03</td>\n",
       "      <td>1.317253e+06</td>\n",
       "      <td>3.660873e+01</td>\n",
       "      <td>2.356775e+04</td>\n",
       "      <td>0.000000</td>\n",
       "      <td>0.045172</td>\n",
       "      <td>0.000000</td>\n",
       "      <td>0.000000</td>\n",
       "      <td>0.006781</td>\n",
       "      <td>0.000000</td>\n",
       "    </tr>\n",
       "    <tr>\n",
       "      <th>50%</th>\n",
       "      <td>862.000000</td>\n",
       "      <td>1.400000e+01</td>\n",
       "      <td>8.870000e+03</td>\n",
       "      <td>0.000000e+00</td>\n",
       "      <td>0.000000e+00</td>\n",
       "      <td>1.595739e+04</td>\n",
       "      <td>1.156189e+07</td>\n",
       "      <td>3.061167e+02</td>\n",
       "      <td>2.224375e+05</td>\n",
       "      <td>0.000382</td>\n",
       "      <td>0.131969</td>\n",
       "      <td>0.000000</td>\n",
       "      <td>1.000000</td>\n",
       "      <td>0.017137</td>\n",
       "      <td>0.045579</td>\n",
       "    </tr>\n",
       "    <tr>\n",
       "      <th>75%</th>\n",
       "      <td>927.000000</td>\n",
       "      <td>2.502290e+02</td>\n",
       "      <td>1.722035e+05</td>\n",
       "      <td>1.542064e+02</td>\n",
       "      <td>9.542475e+04</td>\n",
       "      <td>1.780939e+05</td>\n",
       "      <td>1.385446e+08</td>\n",
       "      <td>2.804816e+03</td>\n",
       "      <td>2.235460e+06</td>\n",
       "      <td>0.001443</td>\n",
       "      <td>0.360295</td>\n",
       "      <td>0.029564</td>\n",
       "      <td>30.325487</td>\n",
       "      <td>0.038462</td>\n",
       "      <td>1.816312</td>\n",
       "    </tr>\n",
       "    <tr>\n",
       "      <th>max</th>\n",
       "      <td>1222.000000</td>\n",
       "      <td>1.590118e+07</td>\n",
       "      <td>7.966491e+09</td>\n",
       "      <td>3.435565e+07</td>\n",
       "      <td>2.803729e+10</td>\n",
       "      <td>1.832226e+08</td>\n",
       "      <td>1.912844e+11</td>\n",
       "      <td>1.641433e+06</td>\n",
       "      <td>1.992700e+09</td>\n",
       "      <td>0.112302</td>\n",
       "      <td>43.299312</td>\n",
       "      <td>416.640351</td>\n",
       "      <td>78308.000000</td>\n",
       "      <td>1.057286</td>\n",
       "      <td>947.454622</td>\n",
       "    </tr>\n",
       "  </tbody>\n",
       "</table>\n",
       "</div>"
      ],
      "text/plain": [
       "        date_count  chechin_mean   chechin_sum  werehere_mean  werehere_sum  \\\n",
       "count  4714.000000  4.714000e+03  4.714000e+03   4.714000e+03  4.714000e+03   \n",
       "mean    768.220407  1.481257e+04  1.088578e+07   1.133437e+05  1.042273e+08   \n",
       "std     286.361000  2.737647e+05  1.560556e+08   1.212108e+06  1.112789e+09   \n",
       "min       2.000000  0.000000e+00  0.000000e+00   0.000000e+00  0.000000e+00   \n",
       "25%     533.000000  0.000000e+00  0.000000e+00   0.000000e+00  0.000000e+00   \n",
       "50%     862.000000  1.400000e+01  8.870000e+03   0.000000e+00  0.000000e+00   \n",
       "75%     927.000000  2.502290e+02  1.722035e+05   1.542064e+02  9.542475e+04   \n",
       "max    1222.000000  1.590118e+07  7.966491e+09   3.435565e+07  2.803729e+10   \n",
       "\n",
       "         likes_mean     likes_sum  talking_mean   talking_sum  engaging_min  \\\n",
       "count  4.714000e+03  4.714000e+03  4.714000e+03  4.714000e+03   4714.000000   \n",
       "mean   7.122836e+05  6.273482e+08  8.823142e+03  7.714977e+06      0.001969   \n",
       "std    4.392324e+06  4.318134e+09  5.439167e+04  5.328930e+07      0.006090   \n",
       "min    3.772370e+00  3.520000e+02  0.000000e+00  0.000000e+00      0.000000   \n",
       "25%    2.022574e+03  1.317253e+06  3.660873e+01  2.356775e+04      0.000000   \n",
       "50%    1.595739e+04  1.156189e+07  3.061167e+02  2.224375e+05      0.000382   \n",
       "75%    1.780939e+05  1.385446e+08  2.804816e+03  2.235460e+06      0.001443   \n",
       "max    1.832226e+08  1.912844e+11  1.641433e+06  1.992700e+09      0.112302   \n",
       "\n",
       "       engaging_max  conversion_min  conversion_max  engaging_overall  \\\n",
       "count   4714.000000     4714.000000     4714.000000       4714.000000   \n",
       "mean       0.424417        0.912913      124.621257          0.035883   \n",
       "std        1.552297        8.204496     1343.760700          0.056843   \n",
       "min        0.000000        0.000000        0.000000          0.000000   \n",
       "25%        0.045172        0.000000        0.000000          0.006781   \n",
       "50%        0.131969        0.000000        1.000000          0.017137   \n",
       "75%        0.360295        0.029564       30.325487          0.038462   \n",
       "max       43.299312      416.640351    78308.000000          1.057286   \n",
       "\n",
       "       conversion_overall  \n",
       "count         4714.000000  \n",
       "mean             6.754659  \n",
       "std             28.466268  \n",
       "min              0.000000  \n",
       "25%              0.000000  \n",
       "50%              0.045579  \n",
       "75%              1.816312  \n",
       "max            947.454622  "
      ]
     },
     "execution_count": 28,
     "metadata": {},
     "output_type": "execute_result"
    }
   ],
   "source": [
    "data_group.describe()"
   ]
  },
  {
   "cell_type": "code",
   "execution_count": 29,
   "metadata": {},
   "outputs": [
    {
     "data": {
      "image/png": "[encoded data removed]",
      "text/plain": [
       "<Figure size 432x288 with 1 Axes>"
      ]
     },
     "metadata": {
      "needs_background": "light"
     },
     "output_type": "display_data"
    }
   ],
   "source": [
    "#Distribution of days on record\n",
    "\n",
    "plt.hist(data_group['date_count'])\n",
    "plt.show()"
   ]
  },
  {
   "cell_type": "markdown",
   "metadata": {},
   "source": [
    "Almost half of accounts / companies had been on record over 800 days, almost 75% over 500 days."
   ]
  },
  {
   "cell_type": "code",
   "execution_count": 30,
   "metadata": {},
   "outputs": [
    {
     "data": {
      "image/png": "[encoded data removed]",
      "text/plain": [
       "<Figure size 576x432 with 2 Axes>"
      ]
     },
     "metadata": {
      "needs_background": "light"
     },
     "output_type": "display_data"
    }
   ],
   "source": [
    "#Histogram for start & end date of records\n",
    "\n",
    "fig, axes = plt.subplots(nrows = 2, ncols = 1, figsize=(8,6))\n",
    "fig.tight_layout()\n",
    "\n",
    "plt.subplot(2,1,1)\n",
    "plt.hist(data_group['date_earl'],20)\n",
    "plt.xlabel('date_earl')\n",
    "\n",
    "plt.subplot(2,1,2)\n",
    "plt.hist(data_group['date_late'],20)\n",
    "plt.xlabel('date_late')\n",
    "\n",
    "plt.show()"
   ]
  },
  {
   "cell_type": "markdown",
   "metadata": {},
   "source": [
    "The periods when most companies started to have the records are 2015 season 1 & 2, end of 2015 to beginning of 2016, and 2016 Q3 to 2017 Q2. The 3 periods are all around the end or beginning of a year. However, there were not many companies joining into the record in 2018.\n",
    "\n",
    "Almost all compnaies were kept being recorded until June & July 2018. Note that the latest date in record is 2018-7-17."
   ]
  },
  {
   "cell_type": "code",
   "execution_count": 31,
   "metadata": {},
   "outputs": [
    {
     "data": {
      "image/png": "[encoded data removed]",
      "text/plain": [
       "<Figure size 432x432 with 6 Axes>"
      ]
     },
     "metadata": {
      "needs_background": "light"
     },
     "output_type": "display_data"
    }
   ],
   "source": [
    "#Histogram for 6 metrics\n",
    "\n",
    "fig, axes = plt.subplots(3,2,figsize=(6,6))\n",
    "fig.tight_layout()\n",
    "\n",
    "plt.subplot(3,2,1)\n",
    "plt.hist(data_group['chechin_mean'],20)\n",
    "plt.xlabel('chechin_mean')\n",
    "\n",
    "plt.subplot(3,2,2)\n",
    "plt.hist(data_group['werehere_mean'],20)\n",
    "plt.xlabel('werehere_mean')\n",
    "\n",
    "plt.subplot(3,2,3)\n",
    "plt.hist(data_group['likes_mean'],20)\n",
    "plt.xlabel('likes_mean')\n",
    "\n",
    "plt.subplot(3,2,4)\n",
    "plt.hist(data_group['talking_mean'],20)\n",
    "plt.xlabel('talking_mean')\n",
    "\n",
    "plt.subplot(3,2,5)\n",
    "plt.hist(data_group['engaging_overall'],20)\n",
    "plt.xlabel('engaging_overall')\n",
    "\n",
    "plt.subplot(3,2,6)\n",
    "plt.hist(data_group['conversion_overall'],20)\n",
    "plt.xlabel('conversion_overall')\n",
    "\n",
    "plt.show()"
   ]
  },
  {
   "cell_type": "markdown",
   "metadata": {},
   "source": [
    "We see that all 6 metrics are very skewed. Mectric values of most observations are concentrated with a relatively small range, while a few observations have extremely large numbers. Similar to the case of pooled data, Checkin and Werehere tend to have smaller scale of value than Talking and Likes, among which Likes tends to have largest scale. \n",
    "\n",
    "The majority of campanies have Engaging & Conversion Ratios smaller than 1. Ratios of some accounts are above 1. Note that the proportion of over-one Conversion is much higher than over-one Engaging ratio. My understanding is that foot traffic is not completely dependent on social media behavior, so that for some companies with channels other than social media, it could be normal that not all people who checked into the account have necessarily got engaged or interacted with their facebook page.\n",
    "\n",
    "On the hand, since the data is skewed and with very large and different scales, it might be helpful to normalize them before running any models."
   ]
  },
  {
   "cell_type": "code",
   "execution_count": 32,
   "metadata": {},
   "outputs": [],
   "source": [
    "#Export grouped data and make plots in excel\n",
    "\n",
    "#data_group.to_csv('Facebook_Grouped.csv',index=True)"
   ]
  },
  {
   "cell_type": "code",
   "execution_count": null,
   "metadata": {},
   "outputs": [],
   "source": []
  }
 ],
 "metadata": {
  "kernelspec": {
   "display_name": "Python 3",
   "language": "python",
   "name": "python3"
  },
  "language_info": {
   "codemirror_mode": {
    "name": "ipython",
    "version": 3
   },
   "file_extension": ".py",
   "mimetype": "text/x-python",
   "name": "python",
   "nbconvert_exporter": "python",
   "pygments_lexer": "ipython3",
   "version": "3.7.1"
  }
 },
 "nbformat": 4,
 "nbformat_minor": 2
}
